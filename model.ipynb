{
 "cells": [
  {
   "cell_type": "code",
   "execution_count": 1,
   "metadata": {},
   "outputs": [],
   "source": [
    "import tensorflow as tf\n",
    "from tensorflow import keras\n",
    "from tensorflow.keras.models import Sequential\n",
    "from tensorflow.keras.layers import Conv2D, MaxPooling2D, Flatten, Dense, Dropout\n",
    "from tensorflow.keras.preprocessing.image import ImageDataGenerator\n"
   ]
  },
  {
   "cell_type": "code",
   "execution_count": 2,
   "metadata": {},
   "outputs": [],
   "source": [
    "train_datagen = ImageDataGenerator(\n",
    "    rescale=1./255,\n",
    "    rotation_range=20,\n",
    "    width_shift_range=0.2,\n",
    "    height_shift_range=0.2, \n",
    "    shear_range=0.2,\n",
    "    zoom_range=0.2,\n",
    "    horizontal_flip=True,\n",
    "    fill_mode='nearest'\n",
    ")\n",
    "\n",
    "test_datagen = ImageDataGenerator(rescale=1./255)\n"
   ]
  },
  {
   "cell_type": "code",
   "execution_count": 3,
   "metadata": {},
   "outputs": [
    {
     "name": "stdout",
     "output_type": "stream",
     "text": [
      "Found 8005 images belonging to 2 classes.\n",
      "Found 2023 images belonging to 2 classes.\n"
     ]
    }
   ],
   "source": [
    "train_generator = train_datagen.flow_from_directory(\n",
    "    './training_set',\n",
    "    target_size=(150, 150),\n",
    "    batch_size=32,\n",
    "    class_mode='binary'\n",
    ")\n",
    "\n",
    "test_generator = test_datagen.flow_from_directory(\n",
    "    './test_set',\n",
    "    target_size=(150, 150),\n",
    "    batch_size=32,\n",
    "    class_mode='binary'\n",
    ")\n"
   ]
  },
  {
   "cell_type": "code",
   "execution_count": 4,
   "metadata": {},
   "outputs": [],
   "source": [
    "model = Sequential([\n",
    "    Conv2D(32, (3, 3), activation='relu', input_shape=(150, 150, 3)),\n",
    "    MaxPooling2D(2, 2),\n",
    "    Conv2D(64, (3, 3), activation='relu'),\n",
    "    MaxPooling2D(2, 2),\n",
    "    Conv2D(128, (3, 3), activation='relu'),\n",
    "    MaxPooling2D(2, 2),\n",
    "    Flatten(),\n",
    "    Dense(512, activation='relu'),\n",
    "    Dropout(0.5),\n",
    "    Dense(1, activation='sigmoid')\n",
    "])\n"
   ]
  },
  {
   "cell_type": "code",
   "execution_count": 5,
   "metadata": {},
   "outputs": [],
   "source": [
    "model.compile(loss='binary_crossentropy',\n",
    "              optimizer='adam',\n",
    "              metrics=['accuracy'])\n"
   ]
  },
  {
   "cell_type": "code",
   "execution_count": 6,
   "metadata": {},
   "outputs": [
    {
     "name": "stdout",
     "output_type": "stream",
     "text": [
      "Epoch 1/20\n",
      "251/251 [==============================] - 195s 768ms/step - loss: 0.7092 - accuracy: 0.5330 - val_loss: 0.6823 - val_accuracy: 0.5566\n",
      "Epoch 2/20\n",
      "251/251 [==============================] - 171s 681ms/step - loss: 0.6853 - accuracy: 0.5513 - val_loss: 0.6730 - val_accuracy: 0.5907\n",
      "Epoch 3/20\n",
      "251/251 [==============================] - 164s 652ms/step - loss: 0.6787 - accuracy: 0.5766 - val_loss: 0.6824 - val_accuracy: 0.5986\n",
      "Epoch 4/20\n",
      "251/251 [==============================] - 159s 634ms/step - loss: 0.6637 - accuracy: 0.6061 - val_loss: 0.6464 - val_accuracy: 0.6070\n",
      "Epoch 5/20\n",
      "251/251 [==============================] - 162s 644ms/step - loss: 0.6541 - accuracy: 0.6191 - val_loss: 0.6175 - val_accuracy: 0.6708\n",
      "Epoch 6/20\n",
      "251/251 [==============================] - 157s 626ms/step - loss: 0.6261 - accuracy: 0.6485 - val_loss: 0.6006 - val_accuracy: 0.6728\n",
      "Epoch 7/20\n",
      "251/251 [==============================] - 171s 683ms/step - loss: 0.6008 - accuracy: 0.6731 - val_loss: 0.5586 - val_accuracy: 0.7385\n",
      "Epoch 8/20\n",
      "251/251 [==============================] - 170s 675ms/step - loss: 0.5954 - accuracy: 0.6833 - val_loss: 0.5583 - val_accuracy: 0.7257\n",
      "Epoch 9/20\n",
      "251/251 [==============================] - 165s 655ms/step - loss: 0.5739 - accuracy: 0.7018 - val_loss: 0.5390 - val_accuracy: 0.7286\n",
      "Epoch 10/20\n",
      "251/251 [==============================] - 153s 611ms/step - loss: 0.5603 - accuracy: 0.7102 - val_loss: 0.5132 - val_accuracy: 0.7519\n",
      "Epoch 11/20\n",
      "251/251 [==============================] - 170s 677ms/step - loss: 0.5538 - accuracy: 0.7212 - val_loss: 0.5070 - val_accuracy: 0.7667\n",
      "Epoch 12/20\n",
      "251/251 [==============================] - 147s 586ms/step - loss: 0.5435 - accuracy: 0.7268 - val_loss: 0.5191 - val_accuracy: 0.7588\n",
      "Epoch 13/20\n",
      "251/251 [==============================] - 155s 619ms/step - loss: 0.5316 - accuracy: 0.7295 - val_loss: 0.4734 - val_accuracy: 0.7731\n",
      "Epoch 14/20\n",
      "251/251 [==============================] - 161s 643ms/step - loss: 0.5187 - accuracy: 0.7440 - val_loss: 0.5666 - val_accuracy: 0.7316\n",
      "Epoch 15/20\n",
      "251/251 [==============================] - 162s 645ms/step - loss: 0.5149 - accuracy: 0.7520 - val_loss: 0.4867 - val_accuracy: 0.7627\n",
      "Epoch 16/20\n",
      "251/251 [==============================] - 165s 658ms/step - loss: 0.4988 - accuracy: 0.7552 - val_loss: 0.4914 - val_accuracy: 0.7800\n",
      "Epoch 17/20\n",
      "251/251 [==============================] - 166s 659ms/step - loss: 0.4925 - accuracy: 0.7564 - val_loss: 0.4323 - val_accuracy: 0.8097\n",
      "Epoch 18/20\n",
      "251/251 [==============================] - 161s 640ms/step - loss: 0.4777 - accuracy: 0.7708 - val_loss: 0.4681 - val_accuracy: 0.7795\n",
      "Epoch 19/20\n",
      "251/251 [==============================] - 160s 638ms/step - loss: 0.4722 - accuracy: 0.7693 - val_loss: 0.4414 - val_accuracy: 0.7993\n",
      "Epoch 20/20\n",
      "251/251 [==============================] - 165s 655ms/step - loss: 0.4660 - accuracy: 0.7775 - val_loss: 0.4491 - val_accuracy: 0.8013\n"
     ]
    }
   ],
   "source": [
    "history = model.fit(\n",
    "    train_generator,\n",
    "    epochs=20,\n",
    "    validation_data=test_generator\n",
    ")\n"
   ]
  },
  {
   "cell_type": "code",
   "execution_count": 8,
   "metadata": {},
   "outputs": [
    {
     "name": "stdout",
     "output_type": "stream",
     "text": [
      "64/64 [==============================] - 8s 131ms/step - loss: 0.3608 - accuracy: 0.8389\n",
      "Test accuracy: 0.8388531804084778\n"
     ]
    }
   ],
   "source": [
    "test_loss, test_acc = model.evaluate(test_generator)\n",
    "print(\"Test accuracy:\", test_acc)\n"
   ]
  },
  {
   "cell_type": "code",
   "execution_count": null,
   "metadata": {},
   "outputs": [],
   "source": [
    "model.save(\"cat_dog_classifier.h5\")\n",
    "loaded_model = keras.models.load_model(\"cat_dog_classifier.h5\")\n"
   ]
  },
  {
   "cell_type": "code",
   "execution_count": 8,
   "metadata": {},
   "outputs": [
    {
     "name": "stdout",
     "output_type": "stream",
     "text": [
      "1/1 [==============================] - 0s 29ms/step\n",
      "It's a cat\n"
     ]
    }
   ],
   "source": [
    "import tensorflow as tf\n",
    "from tensorflow.keras.preprocessing import image\n",
    "import numpy as np\n",
    "\n",
    "# # Load the trained model\n",
    "# model = tf.keras.models.load_model('path_to_your_model.h5') \n",
    "\n",
    "# Function to predict the class of an image\n",
    "def predict_image_class(image_path):\n",
    "    # Load and preprocess the image\n",
    "    img = image.load_img(image_path, target_size=(150, 150))\n",
    "    img_array = image.img_to_array(img)\n",
    "    img_array = np.expand_dims(img_array, axis=0)\n",
    "    img_array /= 255.0  # Normalize the image\n",
    "\n",
    "    # Make the prediction\n",
    "    prediction = model.predict(img_array)\n",
    "\n",
    "    # Interpret the prediction\n",
    "    if prediction[0] > 0.5:\n",
    "        return \"It's a dog\"\n",
    "    else:\n",
    "        return \"It's a cat\"\n",
    "\n",
    "# Example usage:\n",
    "image_path_to_predict = './training_set/cats/cat.1002.jpg' \n",
    "prediction = predict_image_class(image_path_to_predict)\n",
    "print(prediction)\n"
   ]
  }
 ],
 "metadata": {
  "kernelspec": {
   "display_name": "Python 3",
   "language": "python",
   "name": "python3"
  },
  "language_info": {
   "codemirror_mode": {
    "name": "ipython",
    "version": 3
   },
   "file_extension": ".py",
   "mimetype": "text/x-python",
   "name": "python",
   "nbconvert_exporter": "python",
   "pygments_lexer": "ipython3",
   "version": "3.7.8"
  },
  "orig_nbformat": 4
 },
 "nbformat": 4,
 "nbformat_minor": 2
}
